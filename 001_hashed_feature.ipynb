{
 "cells": [
  {
   "cell_type": "code",
   "execution_count": 1,
   "id": "political-reputation",
   "metadata": {
    "ExecuteTime": {
     "end_time": "2021-06-21T16:53:32.225696Z",
     "start_time": "2021-06-21T16:53:32.212686Z"
    }
   },
   "outputs": [],
   "source": [
    "# auto-compeletion faster\n",
    "%config Completer.use_jedi = False"
   ]
  },
  {
   "cell_type": "code",
   "execution_count": 2,
   "id": "advisory-hostel",
   "metadata": {
    "ExecuteTime": {
     "end_time": "2021-06-21T16:53:33.252764Z",
     "start_time": "2021-06-21T16:53:32.229183Z"
    }
   },
   "outputs": [],
   "source": [
    "import os\n",
    "import pandas as pd\n",
    "import numpy as np\n",
    "from sklearn.metrics import roc_auc_score\n",
    "from sklearn.model_selection import train_test_split\n",
    "# from lightgbm import LGBMClassifier\n",
    "from os.path import join as PJ"
   ]
  },
  {
   "cell_type": "code",
   "execution_count": 3,
   "id": "chief-image",
   "metadata": {
    "ExecuteTime": {
     "end_time": "2021-06-21T16:53:33.256638Z",
     "start_time": "2021-06-21T16:53:33.254422Z"
    }
   },
   "outputs": [],
   "source": [
    "DATA = PJ(\"data\",'hashed_feature.csv')\n",
    "SEED = 1"
   ]
  },
  {
   "cell_type": "markdown",
   "id": "sized-regulation",
   "metadata": {},
   "source": [
    "# 資料簡介\n",
    "\n",
    "這次的示範資料集是從Kaggle上2013年的[Amazon員工訪問權限預測挑戰賽](https://www.kaggle.com/c/amazon-employee-access-challenge)中取得\n",
    "這個資料集，該資料集收集了Amazon公司中各個員工針對每個資源(例如網頁的logging)的訪問紀錄，當員工屬於能夠取得訪問權限時，系統卻不給訪問，又要向上申請才能取得權限，一來一往浪費的非常多時間，因此這場比賽希望能夠建構模型，減少員工訪問權限所需的人工流程，我們取出5個特徵如下 :\n",
    "\n",
    "\n",
    "* Feature (X)\n",
    "\n",
    "> RESOURCE : 資源ID\n",
    "\n",
    "> MGR_ID : 員工主管的ID \n",
    "\n",
    "> ROLE_FAMILY_DESC : 員工類別擴展描述 (例如 軟體工程的零售經理)\n",
    "\n",
    "> ROLE_FAMILY : 員工類別 (例如 零售經理)\n",
    "\n",
    "> ROLE_CODE : 員工角色編碼 (例如 經理)\n",
    "\n",
    "* Target (Y)\n",
    "\n",
    "> ACTION : \n",
    "\n",
    " >> 1 : RESOURCE 訪問權限取得\n",
    " \n",
    " >> 0 : RESOURCE 禁止訪問"
   ]
  },
  {
   "cell_type": "code",
   "execution_count": 4,
   "id": "lucky-revelation",
   "metadata": {
    "ExecuteTime": {
     "end_time": "2021-06-21T16:53:33.334583Z",
     "start_time": "2021-06-21T16:53:33.258411Z"
    }
   },
   "outputs": [
    {
     "data": {
      "text/plain": [
       "RESOURCE            int64\n",
       "MGR_ID              int64\n",
       "ROLE_FAMILY_DESC    int64\n",
       "ROLE_FAMILY         int64\n",
       "ROLE_CODE           int64\n",
       "dtype: object"
      ]
     },
     "metadata": {},
     "output_type": "display_data"
    },
    {
     "data": {
      "text/plain": [
       "(32769, 5)"
      ]
     },
     "metadata": {},
     "output_type": "display_data"
    },
    {
     "data": {
      "text/html": [
       "<div>\n",
       "<style scoped>\n",
       "    .dataframe tbody tr th:only-of-type {\n",
       "        vertical-align: middle;\n",
       "    }\n",
       "\n",
       "    .dataframe tbody tr th {\n",
       "        vertical-align: top;\n",
       "    }\n",
       "\n",
       "    .dataframe thead th {\n",
       "        text-align: right;\n",
       "    }\n",
       "</style>\n",
       "<table border=\"1\" class=\"dataframe\">\n",
       "  <thead>\n",
       "    <tr style=\"text-align: right;\">\n",
       "      <th></th>\n",
       "      <th>RESOURCE</th>\n",
       "      <th>MGR_ID</th>\n",
       "      <th>ROLE_FAMILY_DESC</th>\n",
       "      <th>ROLE_FAMILY</th>\n",
       "      <th>ROLE_CODE</th>\n",
       "    </tr>\n",
       "  </thead>\n",
       "  <tbody>\n",
       "    <tr>\n",
       "      <th>0</th>\n",
       "      <td>39353</td>\n",
       "      <td>85475</td>\n",
       "      <td>117906</td>\n",
       "      <td>290919</td>\n",
       "      <td>117908</td>\n",
       "    </tr>\n",
       "    <tr>\n",
       "      <th>1</th>\n",
       "      <td>17183</td>\n",
       "      <td>1540</td>\n",
       "      <td>118536</td>\n",
       "      <td>308574</td>\n",
       "      <td>118539</td>\n",
       "    </tr>\n",
       "    <tr>\n",
       "      <th>2</th>\n",
       "      <td>36724</td>\n",
       "      <td>14457</td>\n",
       "      <td>267952</td>\n",
       "      <td>19721</td>\n",
       "      <td>117880</td>\n",
       "    </tr>\n",
       "    <tr>\n",
       "      <th>3</th>\n",
       "      <td>36135</td>\n",
       "      <td>5396</td>\n",
       "      <td>240983</td>\n",
       "      <td>290919</td>\n",
       "      <td>118322</td>\n",
       "    </tr>\n",
       "    <tr>\n",
       "      <th>4</th>\n",
       "      <td>42680</td>\n",
       "      <td>5905</td>\n",
       "      <td>123932</td>\n",
       "      <td>19793</td>\n",
       "      <td>119325</td>\n",
       "    </tr>\n",
       "  </tbody>\n",
       "</table>\n",
       "</div>"
      ],
      "text/plain": [
       "   RESOURCE  MGR_ID  ROLE_FAMILY_DESC  ROLE_FAMILY  ROLE_CODE\n",
       "0     39353   85475            117906       290919     117908\n",
       "1     17183    1540            118536       308574     118539\n",
       "2     36724   14457            267952        19721     117880\n",
       "3     36135    5396            240983       290919     118322\n",
       "4     42680    5905            123932        19793     119325"
      ]
     },
     "metadata": {},
     "output_type": "display_data"
    },
    {
     "data": {
      "text/plain": [
       "'TARGET'"
      ]
     },
     "metadata": {},
     "output_type": "display_data"
    },
    {
     "data": {
      "text/plain": [
       "1    30872\n",
       "0     1897\n",
       "Name: ACTION, dtype: int64"
      ]
     },
     "metadata": {},
     "output_type": "display_data"
    },
    {
     "name": "stdout",
     "output_type": "stream",
     "text": [
      "<class 'pandas.core.frame.DataFrame'>\n",
      "RangeIndex: 32769 entries, 0 to 32768\n",
      "Data columns (total 5 columns):\n",
      " #   Column            Non-Null Count  Dtype\n",
      "---  ------            --------------  -----\n",
      " 0   RESOURCE          32769 non-null  int64\n",
      " 1   MGR_ID            32769 non-null  int64\n",
      " 2   ROLE_FAMILY_DESC  32769 non-null  int64\n",
      " 3   ROLE_FAMILY       32769 non-null  int64\n",
      " 4   ROLE_CODE         32769 non-null  int64\n",
      "dtypes: int64(5)\n",
      "memory usage: 1.3 MB\n",
      "CARDINALITY of RESOURCE (ALL): \n",
      "7518\n",
      "CARDINALITY of RESOURCE (Train): \n",
      "6670\n",
      "\n",
      "RESOURCE UNSEEN : \n",
      "[39151 39418 80307 ... 73956 86242 42897]\n",
      "num of resource unseen\n",
      "4625\n"
     ]
    }
   ],
   "source": [
    "train = pd.read_csv(DATA)\n",
    "y = train['ACTION']\n",
    "train = train[['RESOURCE', 'MGR_ID',\n",
    "               'ROLE_FAMILY_DESC', 'ROLE_FAMILY',\n",
    "               'ROLE_CODE']]\n",
    "display(train.dtypes,\n",
    "       train.shape,\n",
    "       train.head(),\n",
    "       'TARGET',\n",
    "       y.value_counts())\n",
    "train.info()\n",
    "X_train, X_val, y_train, y_val = train_test_split(train, y, \n",
    "                                                  test_size=0.2,\n",
    "                                                  random_state=SEED\n",
    "                                                  , \n",
    "                                                  stratify = y)\n",
    "print(\n",
    "    'CARDINALITY of RESOURCE (ALL): ',\n",
    "    len(train['RESOURCE'].unique()),\n",
    "    'CARDINALITY of RESOURCE (Train): ',\n",
    "    len(X_train['RESOURCE'].unique()),\n",
    "    sep='\\n'\n",
    "    \n",
    ")\n",
    "print()\n",
    "\n",
    "print('RESOURCE UNSEEN : ')\n",
    "unseen = ~ X_train['RESOURCE'].isin(X_val['RESOURCE'])\n",
    "unseen_resource = X_train['RESOURCE'][unseen].unique()\n",
    "\n",
    "print(unseen_resource, 'num of resource unseen', len(unseen_resource), sep='\\n')"
   ]
  },
  {
   "cell_type": "markdown",
   "id": "continued-latvia",
   "metadata": {},
   "source": [
    "# 問題描述\n",
    "\n",
    "* 詞彙表不完整(out-of-vocabulary)\n",
    "    * 當分類變數是嬰兒出生的 `hospital_id`, 使用者 `cookie_id`, 文章url `url-http_endpoint`，測試集中可能根本沒有你的`id`\n",
    "* 高基數特徵造成的特徵列數大\n",
    "    * 幾千萬個到幾百萬個特徵，導致訓練出來的模型很大\n",
    "* 冷啟動\n",
    "    * 新的文章 url-http_endpoint, 新的使用者 cookie\n",
    "    \n",
    "**Note** : 即使是 Ont-Hot-Encoding，你也應該保持 OOV 為 all zeros\n",
    "\n",
    "\n",
    "# 解法\n",
    "\n",
    "**Hashing**\n",
    "\n",
    "1. 使用必然性(沒有隨機種子，沒有加鹽(salt?))，且可移植(同個算法可以同時用來訓練和服務)，的雜湊演算法\n",
    "\n",
    "2. 推薦使用 Farmhash，他在BigQuerySQL中有實現\n",
    "\n",
    "**Note** Farmhash 是一種必然性、分佈均勻、且許多程式語言都可以實作的雜湊演算法之一 - [farmhash](https://github.com/google/farmhash)\n",
    "\n",
    "3. 我們可以簡單的label encoding之後，把各個數字 bucketize\n",
    "\n",
    "# 為什麼有用\n",
    "\n",
    "## OOV\n",
    "\n",
    "1. 即使有不再Training set的 `RESOURCE`，他也會被分到某個`RESOURCE_bucket_id`中\n",
    "    * 在模型服務時不會壞掉\n",
    "    * 收到未知的`RESOURCE`時，會近乎隨機產生產生已經見過的`RESOURCE_bucket_id`，這個直當然不會是準確的，但他會是合理的值(也就是和她同一個`RESOURCE_bucket_id`)的行為\n",
    "    \n",
    "2. 你需要平衡 **合理地處理不再詞彙表內的輸入**、**讓模型準確地反應輸入**之間的需求\n",
    "    * 根據經驗，比較好的做法大概是讓每個`bucket`有5筆資料\n",
    "    \n",
    "## High Cardinality\n",
    "\n",
    "1. 只要選擇夠少的bucket數量，此問題就能獲得解決，從而維持系統記憶體的使用量以及模型大小的需求\n",
    "2. 既然high cardinality原本解不了(無法訓練或是佔用過多資源)，那麼有損的編碼就會是一個可接受的折衷方案\n",
    "\n",
    "\n",
    "## 冷啟動\n",
    "\n",
    "1. 新的`RESOURCE`加入時，預測會比較不準，但隨著新的`RESOURCE`在新資料越出現越多，此模型的預測就會開始考量到新的`RESOURCE`(因為label encoding)"
   ]
  },
  {
   "cell_type": "code",
   "execution_count": 5,
   "id": "adverse-syndication",
   "metadata": {
    "ExecuteTime": {
     "end_time": "2021-06-21T16:53:33.342707Z",
     "start_time": "2021-06-21T16:53:33.336156Z"
    }
   },
   "outputs": [],
   "source": [
    "class Hasher:\n",
    "    \n",
    "    def __init__(self, n_buckets):\n",
    "        self.n_buckets = n_buckets\n",
    "        self.num_in_bucket = None\n",
    "        self.value_to_label = {}\n",
    "    \n",
    "    def fit(self, df : pd.DataFrame, col) -> None:\n",
    "        pass\n",
    "    \n",
    "    def fit_transform(self, df : pd.DataFrame,\n",
    "                  col : str,\n",
    "                  verbose : bool = True) -> pd.DataFrame:\n",
    "        \n",
    "        ####### do label encoding for original feature column #######\n",
    "        res_df = df.copy()\n",
    "        for label, value in enumerate(res_df[col].unique()):\n",
    "            self.value_to_label[value] = label\n",
    "            \n",
    "        self.num_in_bucket = len(self.value_to_label.keys()) // self.n_buckets\n",
    "        res_df[f'{col}_labels'] = res_df[col].map(self.value_to_label)\n",
    "        res_df[f'{col}_bucket_id'] = (\n",
    "            np.floor(res_df[f'{col}_labels'] / self.num_in_bucket).astype('int')\n",
    "        )\n",
    "        \n",
    "        if verbose:\n",
    "            print('original cardinality : ',len(self.value_to_label.keys()))\n",
    "            print(f'hash in {self.n_buckets} buckets')\n",
    "            print(f'{self.num_in_bucket} per buckets in general')\n",
    "        \n",
    "        return res_df\n",
    "        \n"
   ]
  },
  {
   "cell_type": "code",
   "execution_count": 6,
   "id": "likely-texture",
   "metadata": {
    "ExecuteTime": {
     "end_time": "2021-06-21T16:53:33.403201Z",
     "start_time": "2021-06-21T16:53:33.346082Z"
    }
   },
   "outputs": [
    {
     "name": "stdout",
     "output_type": "stream",
     "text": [
      "original cardinality :  6670\n",
      "hash in 5000 buckets\n",
      "1 per buckets in general\n"
     ]
    },
    {
     "data": {
      "text/html": [
       "<div>\n",
       "<style scoped>\n",
       "    .dataframe tbody tr th:only-of-type {\n",
       "        vertical-align: middle;\n",
       "    }\n",
       "\n",
       "    .dataframe tbody tr th {\n",
       "        vertical-align: top;\n",
       "    }\n",
       "\n",
       "    .dataframe thead th {\n",
       "        text-align: right;\n",
       "    }\n",
       "</style>\n",
       "<table border=\"1\" class=\"dataframe\">\n",
       "  <thead>\n",
       "    <tr style=\"text-align: right;\">\n",
       "      <th></th>\n",
       "      <th>RESOURCE</th>\n",
       "      <th>MGR_ID</th>\n",
       "      <th>ROLE_FAMILY_DESC</th>\n",
       "      <th>ROLE_FAMILY</th>\n",
       "      <th>ROLE_CODE</th>\n",
       "      <th>RESOURCE_labels</th>\n",
       "      <th>RESOURCE_bucket_id</th>\n",
       "    </tr>\n",
       "  </thead>\n",
       "  <tbody>\n",
       "    <tr>\n",
       "      <th>17261</th>\n",
       "      <td>77500</td>\n",
       "      <td>7459</td>\n",
       "      <td>135104</td>\n",
       "      <td>118870</td>\n",
       "      <td>125753</td>\n",
       "      <td>0</td>\n",
       "      <td>0</td>\n",
       "    </tr>\n",
       "    <tr>\n",
       "      <th>16696</th>\n",
       "      <td>79121</td>\n",
       "      <td>225257</td>\n",
       "      <td>311236</td>\n",
       "      <td>118424</td>\n",
       "      <td>118425</td>\n",
       "      <td>1</td>\n",
       "      <td>1</td>\n",
       "    </tr>\n",
       "    <tr>\n",
       "      <th>5664</th>\n",
       "      <td>20364</td>\n",
       "      <td>22504</td>\n",
       "      <td>128788</td>\n",
       "      <td>118424</td>\n",
       "      <td>120346</td>\n",
       "      <td>2</td>\n",
       "      <td>2</td>\n",
       "    </tr>\n",
       "    <tr>\n",
       "      <th>4784</th>\n",
       "      <td>33146</td>\n",
       "      <td>1728</td>\n",
       "      <td>128634</td>\n",
       "      <td>118398</td>\n",
       "      <td>121529</td>\n",
       "      <td>3</td>\n",
       "      <td>3</td>\n",
       "    </tr>\n",
       "    <tr>\n",
       "      <th>28797</th>\n",
       "      <td>39151</td>\n",
       "      <td>54684</td>\n",
       "      <td>279443</td>\n",
       "      <td>308574</td>\n",
       "      <td>118779</td>\n",
       "      <td>4</td>\n",
       "      <td>4</td>\n",
       "    </tr>\n",
       "  </tbody>\n",
       "</table>\n",
       "</div>"
      ],
      "text/plain": [
       "       RESOURCE  MGR_ID  ROLE_FAMILY_DESC  ROLE_FAMILY  ROLE_CODE  \\\n",
       "17261     77500    7459            135104       118870     125753   \n",
       "16696     79121  225257            311236       118424     118425   \n",
       "5664      20364   22504            128788       118424     120346   \n",
       "4784      33146    1728            128634       118398     121529   \n",
       "28797     39151   54684            279443       308574     118779   \n",
       "\n",
       "       RESOURCE_labels  RESOURCE_bucket_id  \n",
       "17261                0                   0  \n",
       "16696                1                   1  \n",
       "5664                 2                   2  \n",
       "4784                 3                   3  \n",
       "28797                4                   4  "
      ]
     },
     "execution_count": 6,
     "metadata": {},
     "output_type": "execute_result"
    }
   ],
   "source": [
    "reosurce_hasher = Hasher(n_buckets=5000)\n",
    "\n",
    "X_train_hashed = reosurce_hasher.fit_transform(X_train, col='RESOURCE')\n",
    "X_train_hashed.head()"
   ]
  },
  {
   "cell_type": "markdown",
   "id": "charged-empire",
   "metadata": {},
   "source": [
    "# 代價\n",
    "\n",
    "1. 衝突 - 和 OneHotEncoding 比起來，hashing的特徵數較少，我們犧牲的準確表示資料的能力，就算你把`bucket` 的數量家大很多倍，衝突的機率還是會存在，除非你可以容許多個分類輸入共用一個雜湊值，否則就不要使用Hashed Features\n",
    "\n",
    "2. 傾斜 - 當分類輸入高度傾斜時，準確度的損失就會特別嚴重\n",
    "    * 考慮一個`Bucket`裡面有超多個`RESOURCE` id，那麼這些 id 的資料行為就會被一起計算，就像是某中不應該存在的平均\n",
    "    \n",
    "# 其他方案\n",
    "\n",
    "1. 使用聚合特徵，例如引入TargetEncoding，變成該`RESOURCE`能取得訪問權限的機率，當然，Testing set的unseen `RESOURCE` 就會是類似平均值的處理方式，這確實也有類似效果\n"
   ]
  },
  {
   "cell_type": "code",
   "execution_count": 7,
   "id": "external-aircraft",
   "metadata": {
    "ExecuteTime": {
     "end_time": "2021-06-21T16:53:33.426220Z",
     "start_time": "2021-06-21T16:53:33.405973Z"
    }
   },
   "outputs": [
    {
     "data": {
      "text/html": [
       "<div>\n",
       "<style scoped>\n",
       "    .dataframe tbody tr th:only-of-type {\n",
       "        vertical-align: middle;\n",
       "    }\n",
       "\n",
       "    .dataframe tbody tr th {\n",
       "        vertical-align: top;\n",
       "    }\n",
       "\n",
       "    .dataframe thead th {\n",
       "        text-align: right;\n",
       "    }\n",
       "</style>\n",
       "<table border=\"1\" class=\"dataframe\">\n",
       "  <thead>\n",
       "    <tr style=\"text-align: right;\">\n",
       "      <th></th>\n",
       "      <th>num_hash_buckets</th>\n",
       "      <th>entries_per_bucket</th>\n",
       "      <th>collision_prob</th>\n",
       "    </tr>\n",
       "  </thead>\n",
       "  <tbody>\n",
       "    <tr>\n",
       "      <th>0</th>\n",
       "      <td>3</td>\n",
       "      <td>2223.333333</td>\n",
       "      <td>1.000000</td>\n",
       "    </tr>\n",
       "    <tr>\n",
       "      <th>1</th>\n",
       "      <td>10</td>\n",
       "      <td>667.000000</td>\n",
       "      <td>1.000000</td>\n",
       "    </tr>\n",
       "    <tr>\n",
       "      <th>2</th>\n",
       "      <td>100</td>\n",
       "      <td>66.700000</td>\n",
       "      <td>1.000000</td>\n",
       "    </tr>\n",
       "    <tr>\n",
       "      <th>3</th>\n",
       "      <td>1000</td>\n",
       "      <td>6.670000</td>\n",
       "      <td>1.000000</td>\n",
       "    </tr>\n",
       "    <tr>\n",
       "      <th>4</th>\n",
       "      <td>5000</td>\n",
       "      <td>1.334000</td>\n",
       "      <td>1.000000</td>\n",
       "    </tr>\n",
       "    <tr>\n",
       "      <th>5</th>\n",
       "      <td>100000</td>\n",
       "      <td>0.066700</td>\n",
       "      <td>1.000000</td>\n",
       "    </tr>\n",
       "    <tr>\n",
       "      <th>6</th>\n",
       "      <td>200000</td>\n",
       "      <td>0.033350</td>\n",
       "      <td>1.000000</td>\n",
       "    </tr>\n",
       "    <tr>\n",
       "      <th>7</th>\n",
       "      <td>2000000000</td>\n",
       "      <td>0.000003</td>\n",
       "      <td>0.011059</td>\n",
       "    </tr>\n",
       "  </tbody>\n",
       "</table>\n",
       "</div>"
      ],
      "text/plain": [
       "   num_hash_buckets  entries_per_bucket  collision_prob\n",
       "0                 3         2223.333333        1.000000\n",
       "1                10          667.000000        1.000000\n",
       "2               100           66.700000        1.000000\n",
       "3              1000            6.670000        1.000000\n",
       "4              5000            1.334000        1.000000\n",
       "5            100000            0.066700        1.000000\n",
       "6            200000            0.033350        1.000000\n",
       "7        2000000000            0.000003        0.011059"
      ]
     },
     "execution_count": 7,
     "metadata": {},
     "output_type": "execute_result"
    }
   ],
   "source": [
    "CARDINALITY = 6670\n",
    "\n",
    "def calc_collision_prob(num_total, num_hash):\n",
    "    no_collision_prob = 1.0\n",
    "    for i in range(num_total):\n",
    "        # i of the previous buckets is occupied now\n",
    "        collision_likelihood = float(i) / num_hash\n",
    "        no_collision_prob *= (1 - collision_likelihood)\n",
    "    return 1 - no_collision_prob\n",
    "\n",
    "\n",
    "data = []\n",
    "for num_hash in [3, 10, 100, 1000, 5000, 100000, 200000, 2000000000]:\n",
    "    data.append([num_hash, \n",
    "                 CARDINALITY/num_hash, \n",
    "                 calc_collision_prob(CARDINALITY, num_hash)\n",
    "                ])\n",
    "prob = pd.DataFrame(data, columns=['num_hash_buckets', 'entries_per_bucket', 'collision_prob'])\n",
    "prob"
   ]
  },
  {
   "cell_type": "code",
   "execution_count": null,
   "id": "detected-karaoke",
   "metadata": {},
   "outputs": [],
   "source": []
  }
 ],
 "metadata": {
  "kernelspec": {
   "display_name": "Python 3",
   "language": "python",
   "name": "python3"
  },
  "language_info": {
   "codemirror_mode": {
    "name": "ipython",
    "version": 3
   },
   "file_extension": ".py",
   "mimetype": "text/x-python",
   "name": "python",
   "nbconvert_exporter": "python",
   "pygments_lexer": "ipython3",
   "version": "3.7.6"
  },
  "toc": {
   "base_numbering": 1,
   "nav_menu": {},
   "number_sections": true,
   "sideBar": true,
   "skip_h1_title": false,
   "title_cell": "Table of Contents",
   "title_sidebar": "Contents",
   "toc_cell": false,
   "toc_position": {},
   "toc_section_display": true,
   "toc_window_display": false
  }
 },
 "nbformat": 4,
 "nbformat_minor": 5
}
