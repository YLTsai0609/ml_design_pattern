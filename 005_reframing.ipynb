{
 "cells": [
  {
   "cell_type": "markdown",
   "metadata": {
    "toc": true
   },
   "source": [
    "<h1>Table of Contents<span class=\"tocSkip\"></span></h1>\n",
    "<div class=\"toc\"><ul class=\"toc-item\"><li><span><a href=\"#Reframing-Design-Pattern\" data-toc-modified-id=\"Reframing-Design-Pattern-1\"><span class=\"toc-item-num\">1&nbsp;&nbsp;</span>Reframing Design Pattern</a></span></li><li><span><a href=\"#問題描述\" data-toc-modified-id=\"問題描述-2\"><span class=\"toc-item-num\">2&nbsp;&nbsp;</span>問題描述</a></span></li><li><span><a href=\"#解決方案\" data-toc-modified-id=\"解決方案-3\"><span class=\"toc-item-num\">3&nbsp;&nbsp;</span>解決方案</a></span><ul class=\"toc-item\"><li><span><a href=\"#比較分類的做法和回歸\" data-toc-modified-id=\"比較分類的做法和回歸-3.1\"><span class=\"toc-item-num\">3.1&nbsp;&nbsp;</span>比較分類的做法和回歸</a></span></li><li><span><a href=\"#觀察效果\" data-toc-modified-id=\"觀察效果-3.2\"><span class=\"toc-item-num\">3.2&nbsp;&nbsp;</span>觀察效果</a></span></li><li><span><a href=\"#增加類別數量\" data-toc-modified-id=\"增加類別數量-3.3\"><span class=\"toc-item-num\">3.3&nbsp;&nbsp;</span>增加類別數量</a></span></li><li><span><a href=\"#分類數量、清晰度和變異數\" data-toc-modified-id=\"分類數量、清晰度和變異數-3.4\"><span class=\"toc-item-num\">3.4&nbsp;&nbsp;</span>分類數量、清晰度和變異數</a></span></li><li><span><a href=\"#限制輸出範圍\" data-toc-modified-id=\"限制輸出範圍-3.5\"><span class=\"toc-item-num\">3.5&nbsp;&nbsp;</span>限制輸出範圍</a></span></li><li><span><a href=\"#代價\" data-toc-modified-id=\"代價-3.6\"><span class=\"toc-item-num\">3.6&nbsp;&nbsp;</span>代價</a></span></li><li><span><a href=\"#其他解決方案\" data-toc-modified-id=\"其他解決方案-3.7\"><span class=\"toc-item-num\">3.7&nbsp;&nbsp;</span>其他解決方案</a></span></li></ul></li></ul></div>"
   ]
  },
  {
   "cell_type": "code",
   "execution_count": 1,
   "metadata": {
    "ExecuteTime": {
     "end_time": "2021-06-22T14:35:43.684459Z",
     "start_time": "2021-06-22T14:35:43.670693Z"
    }
   },
   "outputs": [],
   "source": [
    "# auto-compeletion faster\n",
    "%config Completer.use_jedi = False"
   ]
  },
  {
   "cell_type": "code",
   "execution_count": 2,
   "metadata": {
    "ExecuteTime": {
     "end_time": "2021-06-22T14:35:45.777794Z",
     "start_time": "2021-06-22T14:35:43.686669Z"
    }
   },
   "outputs": [],
   "source": [
    "import os\n",
    "import pandas as pd\n",
    "import numpy as np\n",
    "from google.cloud import bigquery\n",
    "from os.path import join as PJ\n",
    "import seaborn as sns\n",
    "import matplotlib as plt\n",
    "%matplotlib inline"
   ]
  },
  {
   "cell_type": "markdown",
   "metadata": {},
   "source": [
    "# Reframing Design Pattern\n",
    "\n",
    "* 改變問題定義的方式，例如，將職學上屬於回歸的問題定義為分類，反之亦然"
   ]
  },
  {
   "cell_type": "markdown",
   "metadata": {},
   "source": [
    "# 問題描述\n",
    "\n",
    "建構任何ML方案之前的第一步是定義問題，其中有幾個關鍵如下\n",
    "\n",
    "1. 監督式學習，無監督，半監督，自監督?\n",
    "2. 標籤的定義是什麼、標籤怎麼取得?\n",
    "3. 可以接受多大的誤差?\n",
    "\n",
    "E.g. 建立一個ML模型來預測一個地點未來的降雨量，這到底是分類還是回歸?\n",
    "\n",
    "如果我們要預測降雨量(例如0.3mm)，將它視為時間序列回歸問題應該很合理，然而，當我們開始開發模型時，我們可能會發現\n",
    "\n",
    "天氣預報不是乍看下那麼簡單，即時特徵完全相同，有時候下0.3mm，有時候下0.5mm\n",
    "\n",
    "# 解決方案\n",
    "\n",
    "核心問題 : 降雨是機率性事件，同一組特徵有時候是0.3mm，有時候是0.5mm，因此回歸問題即使給他完全相同的特徵，但一個$y=0.3$, 一個$y=0.5$，他還是只會預測一組數字\n",
    "\n",
    "我們重定義成多分類問題\n",
    "\n",
    " - 模擬離散型機率分佈，y不定義成實數，而定義成多分類的分佈\n",
    " \n",
    "這種做法有相當的好處，降雨量並不是呈現典型的常態分佈，而是[Tweedie分佈](https://zhuanlan.zhihu.com/p/163759573)，在0附近有大量的點\n",
    "\n",
    "Google Resrarch 有一篇論文就採取這種做法\n",
    "\n",
    "[MetNet: A Neural Weather Model for Precipitation Forecasting](https://arxiv.org/pdf/2003.12140.pdf)\n",
    "\n",
    "用512累得類別分佈來預測特定地區的降雨率。\n",
    "\n",
    "模型可以學到什麼特徵的情況下，分佈會是雙峰的，或是常態的\n",
    "\n",
    "以下我們以新生兒的體重預測來展示這個做法"
   ]
  },
  {
   "cell_type": "code",
   "execution_count": 3,
   "metadata": {
    "ExecuteTime": {
     "end_time": "2021-06-22T14:35:45.786412Z",
     "start_time": "2021-06-22T14:35:45.780561Z"
    }
   },
   "outputs": [],
   "source": [
    "os.environ[\"GOOGLE_APPLICATION_CREDENTIALS\"] = \".key/credential.json\"\n",
    "bq = bigquery.Client()"
   ]
  },
  {
   "cell_type": "code",
   "execution_count": 4,
   "metadata": {
    "ExecuteTime": {
     "end_time": "2021-06-22T14:35:45.797354Z",
     "start_time": "2021-06-22T14:35:45.793105Z"
    }
   },
   "outputs": [],
   "source": [
    "query = \"\"\"\n",
    "SELECT\n",
    "  weight_pounds,\n",
    "  is_male,\n",
    "  gestation_weeks,\n",
    "  mother_age,\n",
    "  plurality,\n",
    "  mother_race\n",
    "FROM\n",
    "  `bigquery-public-data.samples.natality`\n",
    "WHERE\n",
    "  weight_pounds IS NOT NULL\n",
    "  AND is_male = true\n",
    "  AND gestation_weeks = 38\n",
    "  AND mother_age = 28\n",
    "  AND mother_race = 1\n",
    "  AND plurality = 1\n",
    "  AND RAND() < 0.03\n",
    "\"\"\""
   ]
  },
  {
   "cell_type": "code",
   "execution_count": 5,
   "metadata": {
    "ExecuteTime": {
     "end_time": "2021-06-22T14:35:45.804784Z",
     "start_time": "2021-06-22T14:35:45.800462Z"
    }
   },
   "outputs": [],
   "source": [
    "DATA = PJ(\"data\",'007_reframing_005.csv')\n",
    "SEED = 1"
   ]
  },
  {
   "cell_type": "code",
   "execution_count": 6,
   "metadata": {
    "ExecuteTime": {
     "end_time": "2021-06-22T14:35:45.834062Z",
     "start_time": "2021-06-22T14:35:45.807354Z"
    }
   },
   "outputs": [
    {
     "name": "stdout",
     "output_type": "stream",
     "text": [
      "(19730, 6)\n"
     ]
    },
    {
     "data": {
      "text/html": [
       "<div>\n",
       "<style scoped>\n",
       "    .dataframe tbody tr th:only-of-type {\n",
       "        vertical-align: middle;\n",
       "    }\n",
       "\n",
       "    .dataframe tbody tr th {\n",
       "        vertical-align: top;\n",
       "    }\n",
       "\n",
       "    .dataframe thead th {\n",
       "        text-align: right;\n",
       "    }\n",
       "</style>\n",
       "<table border=\"1\" class=\"dataframe\">\n",
       "  <thead>\n",
       "    <tr style=\"text-align: right;\">\n",
       "      <th></th>\n",
       "      <th>weight_pounds</th>\n",
       "      <th>is_male</th>\n",
       "      <th>gestation_weeks</th>\n",
       "      <th>mother_age</th>\n",
       "      <th>plurality</th>\n",
       "      <th>mother_race</th>\n",
       "    </tr>\n",
       "  </thead>\n",
       "  <tbody>\n",
       "    <tr>\n",
       "      <th>0</th>\n",
       "      <td>8.060100</td>\n",
       "      <td>True</td>\n",
       "      <td>38</td>\n",
       "      <td>28</td>\n",
       "      <td>1</td>\n",
       "      <td>1</td>\n",
       "    </tr>\n",
       "    <tr>\n",
       "      <th>1</th>\n",
       "      <td>7.914595</td>\n",
       "      <td>True</td>\n",
       "      <td>38</td>\n",
       "      <td>28</td>\n",
       "      <td>1</td>\n",
       "      <td>1</td>\n",
       "    </tr>\n",
       "    <tr>\n",
       "      <th>2</th>\n",
       "      <td>8.664167</td>\n",
       "      <td>True</td>\n",
       "      <td>38</td>\n",
       "      <td>28</td>\n",
       "      <td>1</td>\n",
       "      <td>1</td>\n",
       "    </tr>\n",
       "    <tr>\n",
       "      <th>3</th>\n",
       "      <td>6.801261</td>\n",
       "      <td>True</td>\n",
       "      <td>38</td>\n",
       "      <td>28</td>\n",
       "      <td>1</td>\n",
       "      <td>1</td>\n",
       "    </tr>\n",
       "    <tr>\n",
       "      <th>4</th>\n",
       "      <td>7.209116</td>\n",
       "      <td>True</td>\n",
       "      <td>38</td>\n",
       "      <td>28</td>\n",
       "      <td>1</td>\n",
       "      <td>1</td>\n",
       "    </tr>\n",
       "  </tbody>\n",
       "</table>\n",
       "</div>"
      ],
      "text/plain": [
       "   weight_pounds  is_male  gestation_weeks  mother_age  plurality  mother_race\n",
       "0       8.060100     True               38          28          1            1\n",
       "1       7.914595     True               38          28          1            1\n",
       "2       8.664167     True               38          28          1            1\n",
       "3       6.801261     True               38          28          1            1\n",
       "4       7.209116     True               38          28          1            1"
      ]
     },
     "execution_count": 6,
     "metadata": {},
     "output_type": "execute_result"
    }
   ],
   "source": [
    "# df = bq.query(query).to_dataframe()\n",
    "# df.to_csv(DATA, index=False)\n",
    "\n",
    "df = pd.read_csv(DATA)\n",
    "print(df.shape)\n",
    "df.head()"
   ]
  },
  {
   "cell_type": "code",
   "execution_count": 7,
   "metadata": {
    "ExecuteTime": {
     "end_time": "2021-06-22T14:35:46.077235Z",
     "start_time": "2021-06-22T14:35:45.843751Z"
    }
   },
   "outputs": [
    {
     "name": "stderr",
     "output_type": "stream",
     "text": [
      "/Users/YuLong/miniconda3/envs/py_36_tf_21/lib/python3.6/site-packages/seaborn/distributions.py:2557: FutureWarning: `distplot` is a deprecated function and will be removed in a future version. Please adapt your code to use either `displot` (a figure-level function with similar flexibility) or `histplot` (an axes-level function for histograms).\n",
      "  warnings.warn(msg, FutureWarning)\n"
     ]
    },
    {
     "data": {
      "text/plain": [
       "Text(0.5, 0, 'weight_pounds')"
      ]
     },
     "execution_count": 7,
     "metadata": {},
     "output_type": "execute_result"
    },
    {
     "data": {
      "image/png": "[encoded data removed]",
      "text/plain": [
       "<Figure size 432x288 with 1 Axes>"
      ]
     },
     "metadata": {
      "needs_background": "light"
     },
     "output_type": "display_data"
    }
   ],
   "source": [
    "fig = sns.distplot(df[[\"weight_pounds\"]])\n",
    "fig.set_title(\"Distribution of baby weight\")\n",
    "fig.set_xlabel(\"weight_pounds\")\n",
    "# fig.figure.savefig(\"weight_distrib.png\")"
   ]
  },
  {
   "cell_type": "code",
   "execution_count": 8,
   "metadata": {
    "ExecuteTime": {
     "end_time": "2021-06-22T14:35:46.084350Z",
     "start_time": "2021-06-22T14:35:46.080695Z"
    }
   },
   "outputs": [
    {
     "name": "stdout",
     "output_type": "stream",
     "text": [
      "7.500710216211857 1.012727202815209\n"
     ]
    }
   ],
   "source": [
    "#average weight_pounds for this cross section\n",
    "print(\n",
    "    np.mean(df.weight_pounds),\n",
    "    np.std(df.weight_pounds)\n",
    ")"
   ]
  },
  {
   "cell_type": "markdown",
   "metadata": {},
   "source": [
    "## 比較分類的做法和回歸"
   ]
  },
  {
   "cell_type": "code",
   "execution_count": 9,
   "metadata": {
    "ExecuteTime": {
     "end_time": "2021-06-22T14:35:48.262575Z",
     "start_time": "2021-06-22T14:35:46.086162Z"
    }
   },
   "outputs": [],
   "source": [
    "import tensorflow as tf\n",
    "\n",
    "import matplotlib.pyplot as plt\n",
    "from tensorflow.keras.utils import to_categorical\n",
    "from tensorflow import keras\n",
    "from tensorflow import feature_column as fc\n",
    "from tensorflow.keras import layers, models, Model"
   ]
  },
  {
   "cell_type": "code",
   "execution_count": 10,
   "metadata": {
    "ExecuteTime": {
     "end_time": "2021-06-22T14:35:48.275215Z",
     "start_time": "2021-06-22T14:35:48.264556Z"
    }
   },
   "outputs": [],
   "source": [
    "# prepare inputs\n",
    "df.is_male = df.is_male.astype(str)\n",
    "df.plurality = df.plurality.astype(str)\n",
    "df.mother_race.fillna(0, inplace = True)\n",
    "df.mother_race = df.mother_race.astype(str)\n",
    "\n",
    "# create categorical label\n",
    "def categorical_weight(weight_pounds):\n",
    "    if weight_pounds < 3.31:\n",
    "        return 0\n",
    "    elif weight_pounds >= 3.31 and weight_pounds < 5.5:\n",
    "        return 1\n",
    "    elif weight_pounds >= 5.5 and weight_pounds < 8.8:\n",
    "        return 2\n",
    "    else:\n",
    "        return 3\n",
    "\n",
    "df[\"weight_category\"] = df.weight_pounds.apply(lambda x: categorical_weight(x))"
   ]
  },
  {
   "cell_type": "code",
   "execution_count": 11,
   "metadata": {
    "ExecuteTime": {
     "end_time": "2021-06-22T14:35:48.290165Z",
     "start_time": "2021-06-22T14:35:48.277137Z"
    }
   },
   "outputs": [
    {
     "data": {
      "text/html": [
       "<div>\n",
       "<style scoped>\n",
       "    .dataframe tbody tr th:only-of-type {\n",
       "        vertical-align: middle;\n",
       "    }\n",
       "\n",
       "    .dataframe tbody tr th {\n",
       "        vertical-align: top;\n",
       "    }\n",
       "\n",
       "    .dataframe thead th {\n",
       "        text-align: right;\n",
       "    }\n",
       "</style>\n",
       "<table border=\"1\" class=\"dataframe\">\n",
       "  <thead>\n",
       "    <tr style=\"text-align: right;\">\n",
       "      <th></th>\n",
       "      <th>weight_pounds</th>\n",
       "      <th>is_male</th>\n",
       "      <th>gestation_weeks</th>\n",
       "      <th>mother_age</th>\n",
       "      <th>plurality</th>\n",
       "      <th>mother_race</th>\n",
       "      <th>weight_category</th>\n",
       "    </tr>\n",
       "  </thead>\n",
       "  <tbody>\n",
       "    <tr>\n",
       "      <th>0</th>\n",
       "      <td>8.060100</td>\n",
       "      <td>True</td>\n",
       "      <td>38</td>\n",
       "      <td>28</td>\n",
       "      <td>1</td>\n",
       "      <td>1</td>\n",
       "      <td>2</td>\n",
       "    </tr>\n",
       "    <tr>\n",
       "      <th>1</th>\n",
       "      <td>7.914595</td>\n",
       "      <td>True</td>\n",
       "      <td>38</td>\n",
       "      <td>28</td>\n",
       "      <td>1</td>\n",
       "      <td>1</td>\n",
       "      <td>2</td>\n",
       "    </tr>\n",
       "    <tr>\n",
       "      <th>2</th>\n",
       "      <td>8.664167</td>\n",
       "      <td>True</td>\n",
       "      <td>38</td>\n",
       "      <td>28</td>\n",
       "      <td>1</td>\n",
       "      <td>1</td>\n",
       "      <td>2</td>\n",
       "    </tr>\n",
       "    <tr>\n",
       "      <th>3</th>\n",
       "      <td>6.801261</td>\n",
       "      <td>True</td>\n",
       "      <td>38</td>\n",
       "      <td>28</td>\n",
       "      <td>1</td>\n",
       "      <td>1</td>\n",
       "      <td>2</td>\n",
       "    </tr>\n",
       "    <tr>\n",
       "      <th>4</th>\n",
       "      <td>7.209116</td>\n",
       "      <td>True</td>\n",
       "      <td>38</td>\n",
       "      <td>28</td>\n",
       "      <td>1</td>\n",
       "      <td>1</td>\n",
       "      <td>2</td>\n",
       "    </tr>\n",
       "  </tbody>\n",
       "</table>\n",
       "</div>"
      ],
      "text/plain": [
       "   weight_pounds is_male  gestation_weeks  mother_age plurality mother_race  \\\n",
       "0       8.060100    True               38          28         1           1   \n",
       "1       7.914595    True               38          28         1           1   \n",
       "2       8.664167    True               38          28         1           1   \n",
       "3       6.801261    True               38          28         1           1   \n",
       "4       7.209116    True               38          28         1           1   \n",
       "\n",
       "   weight_category  \n",
       "0                2  \n",
       "1                2  \n",
       "2                2  \n",
       "3                2  \n",
       "4                2  "
      ]
     },
     "metadata": {},
     "output_type": "display_data"
    },
    {
     "data": {
      "text/plain": [
       "weight_pounds      float64\n",
       "is_male             object\n",
       "gestation_weeks      int64\n",
       "mother_age           int64\n",
       "plurality           object\n",
       "mother_race         object\n",
       "weight_category      int64\n",
       "dtype: object"
      ]
     },
     "metadata": {},
     "output_type": "display_data"
    }
   ],
   "source": [
    "display(\n",
    "    df.head(),\n",
    "    df.dtypes\n",
    ")"
   ]
  },
  {
   "cell_type": "code",
   "execution_count": 12,
   "metadata": {
    "ExecuteTime": {
     "end_time": "2021-06-22T14:35:48.309027Z",
     "start_time": "2021-06-22T14:35:48.293079Z"
    }
   },
   "outputs": [],
   "source": [
    "def encode_labels(classes):\n",
    "    one_hots = to_categorical(classes)\n",
    "    return one_hots\n",
    "\n",
    "FEATURES = ['is_male', 'mother_age', 'plurality', 'gestation_weeks', 'mother_race']\n",
    "\n",
    "LABEL_CLS = ['weight_category']\n",
    "LABEL_REG = ['weight_pounds']\n",
    "\n",
    "N_TRAIN = int(df.shape[0] * 0.80)\n",
    "\n",
    "X_train = df[FEATURES][:N_TRAIN]\n",
    "X_valid = df[FEATURES][N_TRAIN:]\n",
    "\n",
    "y_train_cls = encode_labels(df[LABEL_CLS][:N_TRAIN])\n",
    "y_train_reg = df[LABEL_REG][:N_TRAIN]\n",
    "\n",
    "y_valid_cls = encode_labels(df[LABEL_CLS][N_TRAIN:])\n",
    "y_valid_reg = df[LABEL_REG][N_TRAIN:]"
   ]
  },
  {
   "cell_type": "code",
   "execution_count": 13,
   "metadata": {
    "ExecuteTime": {
     "end_time": "2021-06-22T14:35:48.316241Z",
     "start_time": "2021-06-22T14:35:48.311285Z"
    }
   },
   "outputs": [
    {
     "data": {
      "text/plain": [
       "Index(['is_male', 'mother_age', 'plurality', 'gestation_weeks', 'mother_race'], dtype='object')"
      ]
     },
     "execution_count": 13,
     "metadata": {},
     "output_type": "execute_result"
    }
   ],
   "source": [
    "X_train.columns"
   ]
  },
  {
   "cell_type": "code",
   "execution_count": 14,
   "metadata": {
    "ExecuteTime": {
     "end_time": "2021-06-22T14:35:48.324192Z",
     "start_time": "2021-06-22T14:35:48.318267Z"
    }
   },
   "outputs": [
    {
     "name": "stdout",
     "output_type": "stream",
     "text": [
      "[0. 0. 1. 0.]\n",
      "weight_pounds    8.0601\n",
      "Name: 0, dtype: float64\n"
     ]
    }
   ],
   "source": [
    "print(y_train_cls[0, :])\n",
    "print(y_train_reg.iloc[0])"
   ]
  },
  {
   "cell_type": "code",
   "execution_count": 15,
   "metadata": {
    "ExecuteTime": {
     "end_time": "2021-06-22T14:35:48.440961Z",
     "start_time": "2021-06-22T14:35:48.329972Z"
    }
   },
   "outputs": [],
   "source": [
    "# train/validation dataset for classification model\n",
    "cls_train_data = tf.data.Dataset.from_tensor_slices((X_train.to_dict('list'), y_train_cls))\n",
    "cls_valid_data = tf.data.Dataset.from_tensor_slices((X_valid.to_dict('list'), y_valid_cls))\n",
    "\n",
    "# train/validation dataset for regression model\n",
    "reg_train_data = tf.data.Dataset.from_tensor_slices((X_train.to_dict('list'), y_train_reg.values))\n",
    "reg_valid_data = tf.data.Dataset.from_tensor_slices((X_valid.to_dict('list'), y_valid_reg.values))"
   ]
  },
  {
   "cell_type": "code",
   "execution_count": 16,
   "metadata": {
    "ExecuteTime": {
     "end_time": "2021-06-22T14:35:48.444974Z",
     "start_time": "2021-06-22T14:35:48.442812Z"
    }
   },
   "outputs": [],
   "source": [
    "# # Examine the two datasets. Notice the different label values.\n",
    "# for data_type in [cls_train_data, reg_train_data]:\n",
    "#     for dict_slice in data_type.take(1):\n",
    "#         print(\"{}\\n\".format(dict_slice))\n"
   ]
  },
  {
   "cell_type": "code",
   "execution_count": 17,
   "metadata": {
    "ExecuteTime": {
     "end_time": "2021-06-22T14:35:48.452873Z",
     "start_time": "2021-06-22T14:35:48.447117Z"
    }
   },
   "outputs": [
    {
     "name": "stdout",
     "output_type": "stream",
     "text": [
      "plurality ['1']\n",
      "is_male ['True']\n",
      "mother_race ['1']\n"
     ]
    }
   ],
   "source": [
    "# create feature columns to handle categorical variables\n",
    "numeric_columns = [fc.numeric_column(\"mother_age\"),\n",
    "                  fc.numeric_column(\"gestation_weeks\")]\n",
    "\n",
    "CATEGORIES = {\n",
    "    'plurality': list(df.plurality.unique()),\n",
    "    'is_male' : list(df.is_male.unique()),\n",
    "    'mother_race': list(df.mother_race.unique())\n",
    "}\n",
    "\n",
    "categorical_columns = []\n",
    "for feature, vocab in CATEGORIES.items():\n",
    "    print(feature, vocab)\n",
    "    cat_col = fc.categorical_column_with_vocabulary_list(\n",
    "        key=feature, vocabulary_list=vocab, dtype=tf.string)\n",
    "    categorical_columns.append(fc.indicator_column(cat_col))\n"
   ]
  },
  {
   "cell_type": "code",
   "execution_count": 18,
   "metadata": {},
   "outputs": [
    {
     "data": {
      "text/plain": [
       "<module 'tensorflow_core.keras.losses' from '/Users/YuLong/miniconda3/envs/py_36_tf_21/lib/python3.6/site-packages/tensorflow_core/python/keras/api/_v2/keras/losses/__init__.py'>"
      ]
     },
     "execution_count": 18,
     "metadata": {},
     "output_type": "execute_result"
    }
   ],
   "source": [
    "tf.keras.losses"
   ]
  },
  {
   "cell_type": "code",
   "execution_count": 19,
   "metadata": {
    "ExecuteTime": {
     "end_time": "2021-06-22T14:35:48.830649Z",
     "start_time": "2021-06-22T14:35:48.454729Z"
    }
   },
   "outputs": [
    {
     "name": "stdout",
     "output_type": "stream",
     "text": [
      "WARNING:tensorflow:From /Users/YuLong/miniconda3/envs/py_36_tf_21/lib/python3.6/site-packages/tensorflow_core/python/feature_column/feature_column_v2.py:4267: IndicatorColumn._variable_shape (from tensorflow.python.feature_column.feature_column_v2) is deprecated and will be removed in a future version.\n",
      "Instructions for updating:\n",
      "The old _FeatureColumn APIs are being deprecated. Please use the new FeatureColumn APIs instead.\n",
      "WARNING:tensorflow:From /Users/YuLong/miniconda3/envs/py_36_tf_21/lib/python3.6/site-packages/tensorflow_core/python/feature_column/feature_column_v2.py:4322: VocabularyListCategoricalColumn._num_buckets (from tensorflow.python.feature_column.feature_column_v2) is deprecated and will be removed in a future version.\n",
      "Instructions for updating:\n",
      "The old _FeatureColumn APIs are being deprecated. Please use the new FeatureColumn APIs instead.\n"
     ]
    }
   ],
   "source": [
    "inputs = {colname: tf.keras.layers.Input(\n",
    "    name=colname, shape=(), dtype=\"float32\")\n",
    "    for colname in [\"mother_age\", \"gestation_weeks\"]}\n",
    "inputs.update({colname: tf.keras.layers.Input(\n",
    "    name=colname, shape=(), dtype=tf.string)\n",
    "    for colname in [\"plurality\", \"is_male\", \"mother_race\"]})\n",
    "\n",
    "# build DenseFeatures for the model\n",
    "dnn_inputs = layers.DenseFeatures(categorical_columns+numeric_columns)(inputs)\n",
    "\n",
    "# create hidden layers\n",
    "h1 = layers.Dense(20, activation=\"relu\")(dnn_inputs)\n",
    "h2 = layers.Dense(10, activation=\"relu\")(h1)\n",
    "\n",
    "# create classification model\n",
    "cls_output = layers.Dense(4, activation=\"softmax\")(h2)\n",
    "cls_model = tf.keras.models.Model(inputs=inputs, outputs=cls_output)\n",
    "cls_model.compile(optimizer='adam',\n",
    "              loss=tf.keras.losses.CategoricalCrossentropy(),\n",
    "              metrics=['accuracy'])   \n",
    "\n",
    "\n",
    "# create regression model\n",
    "reg_output = layers.Dense(1, activation=\"relu\")(h2)\n",
    "reg_model = tf.keras.models.Model(inputs=inputs, outputs=reg_output)\n",
    "reg_model.compile(optimizer='adam',\n",
    "              loss=tf.keras.losses.MeanSquaredError(),\n",
    "              metrics=['mse'])"
   ]
  },
  {
   "cell_type": "code",
   "execution_count": 20,
   "metadata": {
    "ExecuteTime": {
     "end_time": "2021-06-22T14:35:48.838138Z",
     "start_time": "2021-06-22T14:35:48.832238Z"
    }
   },
   "outputs": [
    {
     "name": "stdout",
     "output_type": "stream",
     "text": [
      "Model: \"model\"\n",
      "__________________________________________________________________________________________________\n",
      "Layer (type)                    Output Shape         Param #     Connected to                     \n",
      "==================================================================================================\n",
      "gestation_weeks (InputLayer)    [(None,)]            0                                            \n",
      "__________________________________________________________________________________________________\n",
      "is_male (InputLayer)            [(None,)]            0                                            \n",
      "__________________________________________________________________________________________________\n",
      "mother_age (InputLayer)         [(None,)]            0                                            \n",
      "__________________________________________________________________________________________________\n",
      "mother_race (InputLayer)        [(None,)]            0                                            \n",
      "__________________________________________________________________________________________________\n",
      "plurality (InputLayer)          [(None,)]            0                                            \n",
      "__________________________________________________________________________________________________\n",
      "dense_features (DenseFeatures)  (None, 5)            0           gestation_weeks[0][0]            \n",
      "                                                                 is_male[0][0]                    \n",
      "                                                                 mother_age[0][0]                 \n",
      "                                                                 mother_race[0][0]                \n",
      "                                                                 plurality[0][0]                  \n",
      "__________________________________________________________________________________________________\n",
      "dense (Dense)                   (None, 20)           120         dense_features[0][0]             \n",
      "__________________________________________________________________________________________________\n",
      "dense_1 (Dense)                 (None, 10)           210         dense[0][0]                      \n",
      "__________________________________________________________________________________________________\n",
      "dense_2 (Dense)                 (None, 4)            44          dense_1[0][0]                    \n",
      "==================================================================================================\n",
      "Total params: 374\n",
      "Trainable params: 374\n",
      "Non-trainable params: 0\n",
      "__________________________________________________________________________________________________\n",
      "None\n",
      "Model: \"model_1\"\n",
      "__________________________________________________________________________________________________\n",
      "Layer (type)                    Output Shape         Param #     Connected to                     \n",
      "==================================================================================================\n",
      "gestation_weeks (InputLayer)    [(None,)]            0                                            \n",
      "__________________________________________________________________________________________________\n",
      "is_male (InputLayer)            [(None,)]            0                                            \n",
      "__________________________________________________________________________________________________\n",
      "mother_age (InputLayer)         [(None,)]            0                                            \n",
      "__________________________________________________________________________________________________\n",
      "mother_race (InputLayer)        [(None,)]            0                                            \n",
      "__________________________________________________________________________________________________\n",
      "plurality (InputLayer)          [(None,)]            0                                            \n",
      "__________________________________________________________________________________________________\n",
      "dense_features (DenseFeatures)  (None, 5)            0           gestation_weeks[0][0]            \n",
      "                                                                 is_male[0][0]                    \n",
      "                                                                 mother_age[0][0]                 \n",
      "                                                                 mother_race[0][0]                \n",
      "                                                                 plurality[0][0]                  \n",
      "__________________________________________________________________________________________________\n",
      "dense (Dense)                   (None, 20)           120         dense_features[0][0]             \n",
      "__________________________________________________________________________________________________\n",
      "dense_1 (Dense)                 (None, 10)           210         dense[0][0]                      \n",
      "__________________________________________________________________________________________________\n",
      "dense_3 (Dense)                 (None, 1)            11          dense_1[0][0]                    \n",
      "==================================================================================================\n",
      "Total params: 341\n",
      "Trainable params: 341\n",
      "Non-trainable params: 0\n",
      "__________________________________________________________________________________________________\n",
      "None\n"
     ]
    }
   ],
   "source": [
    "print(cls_model.summary())\n",
    "print(reg_model.summary())"
   ]
  },
  {
   "cell_type": "code",
   "execution_count": 21,
   "metadata": {
    "ExecuteTime": {
     "end_time": "2021-06-22T14:35:50.194154Z",
     "start_time": "2021-06-22T14:35:48.844114Z"
    }
   },
   "outputs": [
    {
     "name": "stdout",
     "output_type": "stream",
     "text": [
      "Train for 316 steps\n",
      "Epoch 1/15\n",
      "316/316 [==============================] - 1s 2ms/step - loss: 0.9187 - accuracy: 0.7926\n",
      "Epoch 2/15\n",
      "316/316 [==============================] - 0s 1ms/step - loss: 0.4650 - accuracy: 0.8606\n",
      "Epoch 3/15\n",
      "316/316 [==============================] - 0s 1ms/step - loss: 0.4638 - accuracy: 0.8606\n",
      "Epoch 4/15\n",
      "316/316 [==============================] - 0s 1ms/step - loss: 0.4621 - accuracy: 0.8606\n",
      "Epoch 5/15\n",
      "316/316 [==============================] - 0s 1ms/step - loss: 0.4601 - accuracy: 0.8606\n",
      "Epoch 6/15\n",
      "316/316 [==============================] - 0s 1ms/step - loss: 0.4579 - accuracy: 0.8606\n",
      "Epoch 7/15\n",
      "316/316 [==============================] - 0s 1ms/step - loss: 0.4560 - accuracy: 0.8606\n",
      "Epoch 8/15\n",
      "316/316 [==============================] - 0s 1ms/step - loss: 0.4542 - accuracy: 0.8606\n",
      "Epoch 9/15\n",
      "316/316 [==============================] - 0s 1ms/step - loss: 0.4535 - accuracy: 0.8606\n",
      "Epoch 10/15\n",
      "316/316 [==============================] - 0s 1ms/step - loss: 0.4698 - accuracy: 0.8606\n",
      "Epoch 11/15\n",
      "316/316 [==============================] - 0s 1ms/step - loss: 0.4476 - accuracy: 0.8606\n",
      "Epoch 12/15\n",
      "316/316 [==============================] - 0s 1ms/step - loss: 0.4519 - accuracy: 0.8606\n",
      "Epoch 13/15\n",
      "316/316 [==============================] - 0s 1ms/step - loss: 0.4539 - accuracy: 0.8606\n",
      "Epoch 14/15\n",
      "316/316 [==============================] - 0s 1ms/step - loss: 0.4583 - accuracy: 0.8606\n",
      "Epoch 15/15\n",
      "316/316 [==============================] - 0s 1ms/step - loss: 0.4575 - accuracy: 0.8606\n",
      "1/1 [==============================] - 0s 162ms/step - loss: 0.1506 - accuracy: 0.9703\n",
      "Validation accuracy for classifcation model: 0.9703497290611267\n"
     ]
    }
   ],
   "source": [
    "# train the classifcation model\n",
    "cls_model.fit(cls_train_data.batch(50), epochs=15)\n",
    "\n",
    "val_loss, val_accuracy = cls_model.evaluate(cls_valid_data.batch(X_valid.shape[0]))\n",
    "print(\"Validation accuracy for classifcation model: {}\".format(val_accuracy))\n"
   ]
  },
  {
   "cell_type": "code",
   "execution_count": 22,
   "metadata": {},
   "outputs": [
    {
     "name": "stdout",
     "output_type": "stream",
     "text": [
      "Train for 316 steps\n",
      "Epoch 1/15\n",
      "316/316 [==============================] - 1s 2ms/step - loss: 57.4718 - mse: 57.4783\n",
      "Epoch 2/15\n",
      "316/316 [==============================] - 0s 1ms/step - loss: 57.4718 - mse: 57.4783\n",
      "Epoch 3/15\n",
      "316/316 [==============================] - 0s 1ms/step - loss: 57.4718 - mse: 57.4783\n",
      "Epoch 4/15\n",
      "316/316 [==============================] - 0s 1ms/step - loss: 57.4718 - mse: 57.4783\n",
      "Epoch 5/15\n",
      "316/316 [==============================] - 0s 1ms/step - loss: 57.4718 - mse: 57.4783\n",
      "Epoch 6/15\n",
      "316/316 [==============================] - 0s 1ms/step - loss: 57.4718 - mse: 57.4783\n",
      "Epoch 7/15\n",
      "316/316 [==============================] - 0s 1ms/step - loss: 57.4718 - mse: 57.4783\n",
      "Epoch 8/15\n",
      "316/316 [==============================] - 0s 1ms/step - loss: 57.4718 - mse: 57.4783\n",
      "Epoch 9/15\n",
      "316/316 [==============================] - 0s 1ms/step - loss: 57.4718 - mse: 57.4783\n",
      "Epoch 10/15\n",
      "316/316 [==============================] - 0s 1ms/step - loss: 57.4718 - mse: 57.4783\n",
      "Epoch 11/15\n",
      "316/316 [==============================] - 0s 1ms/step - loss: 57.4718 - mse: 57.4783\n",
      "Epoch 12/15\n",
      "316/316 [==============================] - 0s 1ms/step - loss: 57.4718 - mse: 57.4783\n",
      "Epoch 13/15\n",
      "316/316 [==============================] - 0s 1ms/step - loss: 57.4718 - mse: 57.4783\n",
      "Epoch 14/15\n",
      "316/316 [==============================] - 0s 1ms/step - loss: 57.4718 - mse: 57.4783\n",
      "Epoch 15/15\n",
      "316/316 [==============================] - 0s 1ms/step - loss: 57.4718 - mse: 57.4783\n",
      "1/1 [==============================] - 0s 138ms/step - loss: 56.5178 - mse: 56.5178\n",
      "Validation RMSE for regression model: 7.517831839216952\n"
     ]
    }
   ],
   "source": [
    "\n",
    "# train the classifcation model\n",
    "reg_model.fit(reg_train_data.batch(50), epochs=15)\n",
    "\n",
    "val_loss, val_mse = reg_model.evaluate(reg_valid_data.batch(X_valid.shape[0]))\n",
    "print(\"Validation RMSE for regression model: {}\".format(val_mse**0.5))"
   ]
  },
  {
   "cell_type": "code",
   "execution_count": 23,
   "metadata": {},
   "outputs": [
    {
     "data": {
      "text/plain": [
       "array(0., dtype=float32)"
      ]
     },
     "execution_count": 23,
     "metadata": {},
     "output_type": "execute_result"
    }
   ],
   "source": [
    "preds = reg_model.predict(x={\"gestation_weeks\": tf.convert_to_tensor([38]),\n",
    "                             \"is_male\": tf.convert_to_tensor([\"True\"]),\n",
    "                             \"mother_age\": tf.convert_to_tensor([28]),\n",
    "                             \"mother_race\": tf.convert_to_tensor([\"1.0\"]),\n",
    "                             \"plurality\": tf.convert_to_tensor([\"Single(1)\"])},\n",
    "                          steps=1).squeeze()\n",
    "preds"
   ]
  },
  {
   "cell_type": "code",
   "execution_count": 24,
   "metadata": {},
   "outputs": [
    {
     "data": {
      "text/plain": [
       "array([8.2640858e-05, 1.6188629e-03, 9.3036920e-01, 6.7929320e-02],\n",
       "      dtype=float32)"
      ]
     },
     "execution_count": 24,
     "metadata": {},
     "output_type": "execute_result"
    }
   ],
   "source": [
    "preds = cls_model.predict(x={\"gestation_weeks\": tf.convert_to_tensor([38]),\n",
    "                             \"is_male\": tf.convert_to_tensor([\"True\"]),\n",
    "                             \"mother_age\": tf.convert_to_tensor([28]),\n",
    "                             \"mother_race\": tf.convert_to_tensor([\"1.0\"]),\n",
    "                             \"plurality\": tf.convert_to_tensor([\"Single(1)\"])},\n",
    "                          steps=1).squeeze()\n",
    "preds"
   ]
  },
  {
   "cell_type": "code",
   "execution_count": 25,
   "metadata": {},
   "outputs": [
    {
     "data": {
      "image/png": "[encoded data removed]",
      "text/plain": [
       "<Figure size 432x288 with 1 Axes>"
      ]
     },
     "metadata": {
      "needs_background": "light"
     },
     "output_type": "display_data"
    }
   ],
   "source": [
    "# def categorical_weight(weight_pounds):\n",
    "#     if weight_pounds < 3.31:\n",
    "#         return 0\n",
    "#     elif weight_pounds >= 3.31 and weight_pounds < 5.5:\n",
    "#         return 1\n",
    "#     elif weight_pounds >= 5.5 and weight_pounds < 8.8:\n",
    "#         return 2\n",
    "#     else:\n",
    "#         return 3\n",
    "\n",
    "\n",
    "objects = ('very_low', 'low', 'average', 'high')\n",
    "y_pos = np.arange(len(objects))\n",
    "predictions = list(preds)\n",
    "\n",
    "plt.bar(y_pos, predictions, align='center', alpha=0.5)\n",
    "plt.xticks(y_pos, objects)\n",
    "plt.title('Baby weight prediction')\n",
    "\n",
    "plt.show()"
   ]
  },
  {
   "cell_type": "markdown",
   "metadata": {},
   "source": [
    "## 觀察效果\n",
    "\n",
    "你可以看到，透過分類問題的輸出，新生兒體重偏低的機會很大(~0.8)，而回歸則是告訴我們一個數字，6.505，如果你的輸出結果存在一些機率性，這個設計方式就會非常有用，接著我們觀察另一件事"
   ]
  },
  {
   "cell_type": "markdown",
   "metadata": {},
   "source": [
    "## 增加類別數量\n",
    "\n",
    "你輸出的類別數量會決定了你的輸出精細度，如果我們需要從預測中獲得更精確的資訊，那麼你就可以這麼做\n"
   ]
  },
  {
   "cell_type": "code",
   "execution_count": 55,
   "metadata": {},
   "outputs": [],
   "source": [
    "# create categorical label\n",
    "MIN = np.min(df.weight_pounds)\n",
    "MAX = np.max(df.weight_pounds)\n",
    "\n",
    "NBUCKETS = 8\n",
    "# NBUCKETS = 50\n",
    "\n",
    "def categorical_weight(weight_pounds, weight_min, weight_max, nbuckets=10):\n",
    "    buckets = np.linspace(weight_min, weight_max, nbuckets)\n",
    "    \n",
    "    return np.digitize(weight_pounds, buckets) - 1\n",
    "\n",
    "def encode_labels(classes):\n",
    "    one_hots = to_categorical(classes)\n",
    "    return one_hots\n",
    "\n",
    "df[\"weight_category\"] = (\n",
    "    df.weight_pounds.apply(lambda x: categorical_weight(x, MIN, MAX, NBUCKETS))\n",
    ")"
   ]
  },
  {
   "cell_type": "code",
   "execution_count": 56,
   "metadata": {},
   "outputs": [],
   "source": [
    "FEATURES = ['is_male', 'mother_age', 'plurality', 'gestation_weeks', 'mother_race']\n",
    "LABEL_COLUMN = ['weight_category']\n",
    "\n",
    "\n",
    "X_train, y_train = df[FEATURES][:N_TRAIN], encode_labels(df[LABEL_COLUMN][:N_TRAIN])\n",
    "X_valid, y_valid = df[FEATURES][N_TRAIN:], encode_labels(df[LABEL_COLUMN][N_TRAIN:])\n"
   ]
  },
  {
   "cell_type": "code",
   "execution_count": 57,
   "metadata": {},
   "outputs": [
    {
     "name": "stdout",
     "output_type": "stream",
     "text": [
      "(8,)\n",
      "[0. 0. 0. 0. 1. 0. 0. 0.]\n"
     ]
    }
   ],
   "source": [
    "print(y_train[0, :].shape)\n",
    "print(y_train[0, :])"
   ]
  },
  {
   "cell_type": "code",
   "execution_count": 58,
   "metadata": {},
   "outputs": [],
   "source": [
    "train_data = tf.data.Dataset.from_tensor_slices((X_train.to_dict('list'), y_train))\n",
    "valid_data = tf.data.Dataset.from_tensor_slices((X_valid.to_dict('list'), y_valid))"
   ]
  },
  {
   "cell_type": "code",
   "execution_count": 59,
   "metadata": {},
   "outputs": [],
   "source": [
    "# create feature columns to handle categorical variables\n",
    "numeric_columns = [fc.numeric_column(\"mother_age\"),\n",
    "                  fc.numeric_column(\"gestation_weeks\")]\n",
    "\n",
    "CATEGORIES = {\n",
    "    'plurality': list(df.plurality.unique()),\n",
    "    'is_male' : list(df.is_male.unique()),\n",
    "    'mother_race': list(df.mother_race.unique())\n",
    "}\n",
    "\n",
    "categorical_columns = []\n",
    "for feature, vocab in CATEGORIES.items():\n",
    "    cat_col = fc.categorical_column_with_vocabulary_list(\n",
    "        key=feature, vocabulary_list=vocab, dtype=tf.string)\n",
    "    categorical_columns.append(fc.indicator_column(cat_col))"
   ]
  },
  {
   "cell_type": "code",
   "execution_count": null,
   "metadata": {},
   "outputs": [],
   "source": []
  },
  {
   "cell_type": "code",
   "execution_count": 60,
   "metadata": {},
   "outputs": [],
   "source": [
    "# create Inputs for model\n",
    "inputs = {colname: tf.keras.layers.Input(\n",
    "    name=colname, shape=(), dtype=\"float32\")\n",
    "    for colname in [\"mother_age\", \"gestation_weeks\"]}\n",
    "inputs.update({colname: tf.keras.layers.Input(\n",
    "    name=colname, shape=(), dtype=tf.string)\n",
    "    for colname in [\"plurality\", \"is_male\", \"mother_race\"]})\n",
    "\n",
    "# build DenseFeatures for the model\n",
    "dnn_inputs = layers.DenseFeatures(categorical_columns+numeric_columns)(inputs)\n",
    "\n",
    "# model\n",
    "h1 = layers.Dense(20, activation=\"relu\")(dnn_inputs)\n",
    "h2 = layers.Dense(10, activation=\"relu\")(h1)\n",
    "output = layers.Dense(NBUCKETS, activation=\"softmax\")(h2)\n",
    "model = tf.keras.models.Model(inputs=inputs, outputs=output)\n",
    "\n",
    "model.compile(optimizer='adam',\n",
    "              loss=tf.keras.losses.CategoricalCrossentropy(),\n",
    "              metrics=['accuracy'])"
   ]
  },
  {
   "cell_type": "code",
   "execution_count": 61,
   "metadata": {},
   "outputs": [
    {
     "name": "stdout",
     "output_type": "stream",
     "text": [
      "Model: \"model_4\"\n",
      "__________________________________________________________________________________________________\n",
      "Layer (type)                    Output Shape         Param #     Connected to                     \n",
      "==================================================================================================\n",
      "gestation_weeks (InputLayer)    [(None,)]            0                                            \n",
      "__________________________________________________________________________________________________\n",
      "is_male (InputLayer)            [(None,)]            0                                            \n",
      "__________________________________________________________________________________________________\n",
      "mother_age (InputLayer)         [(None,)]            0                                            \n",
      "__________________________________________________________________________________________________\n",
      "mother_race (InputLayer)        [(None,)]            0                                            \n",
      "__________________________________________________________________________________________________\n",
      "plurality (InputLayer)          [(None,)]            0                                            \n",
      "__________________________________________________________________________________________________\n",
      "dense_features_3 (DenseFeatures (None, 5)            0           gestation_weeks[0][0]            \n",
      "                                                                 is_male[0][0]                    \n",
      "                                                                 mother_age[0][0]                 \n",
      "                                                                 mother_race[0][0]                \n",
      "                                                                 plurality[0][0]                  \n",
      "__________________________________________________________________________________________________\n",
      "dense_10 (Dense)                (None, 20)           120         dense_features_3[0][0]           \n",
      "__________________________________________________________________________________________________\n",
      "dense_11 (Dense)                (None, 10)           210         dense_10[0][0]                   \n",
      "__________________________________________________________________________________________________\n",
      "dense_12 (Dense)                (None, 8)            88          dense_11[0][0]                   \n",
      "==================================================================================================\n",
      "Total params: 418\n",
      "Trainable params: 418\n",
      "Non-trainable params: 0\n",
      "__________________________________________________________________________________________________\n"
     ]
    }
   ],
   "source": [
    "model.summary()"
   ]
  },
  {
   "cell_type": "code",
   "execution_count": 62,
   "metadata": {},
   "outputs": [
    {
     "name": "stdout",
     "output_type": "stream",
     "text": [
      "Train for 316 steps\n",
      "Epoch 1/30\n",
      "316/316 [==============================] - 1s 3ms/step - loss: 1.4315 - accuracy: 0.4669\n",
      "Epoch 2/30\n",
      "316/316 [==============================] - 0s 1ms/step - loss: 1.1154 - accuracy: 0.4413\n",
      "Epoch 3/30\n",
      "316/316 [==============================] - 0s 1ms/step - loss: 1.0979 - accuracy: 0.4445\n",
      "Epoch 4/30\n",
      "316/316 [==============================] - 0s 1ms/step - loss: 1.0915 - accuracy: 0.4546\n",
      "Epoch 5/30\n",
      "316/316 [==============================] - 0s 1ms/step - loss: 1.0889 - accuracy: 0.4597\n",
      "Epoch 6/30\n",
      "316/316 [==============================] - 0s 1ms/step - loss: 1.0863 - accuracy: 0.4668\n",
      "Epoch 7/30\n",
      "316/316 [==============================] - 0s 1ms/step - loss: 1.0841 - accuracy: 0.4605\n",
      "Epoch 8/30\n",
      "316/316 [==============================] - 0s 1ms/step - loss: 1.0821 - accuracy: 0.4574\n",
      "Epoch 9/30\n",
      "316/316 [==============================] - 0s 1ms/step - loss: 1.0959 - accuracy: 0.4666\n",
      "Epoch 10/30\n",
      "316/316 [==============================] - 0s 1ms/step - loss: 1.0740 - accuracy: 0.4600\n",
      "Epoch 11/30\n",
      "316/316 [==============================] - 0s 1ms/step - loss: 1.0720 - accuracy: 0.4634\n",
      "Epoch 12/30\n",
      "316/316 [==============================] - 0s 1ms/step - loss: 1.0711 - accuracy: 0.4634\n",
      "Epoch 13/30\n",
      "316/316 [==============================] - 0s 1ms/step - loss: 1.0725 - accuracy: 0.4634\n",
      "Epoch 14/30\n",
      "316/316 [==============================] - 0s 1ms/step - loss: 1.0750 - accuracy: 0.4634\n",
      "Epoch 15/30\n",
      "316/316 [==============================] - 0s 1ms/step - loss: 1.0754 - accuracy: 0.4603\n",
      "Epoch 16/30\n",
      "316/316 [==============================] - 0s 1ms/step - loss: 1.0761 - accuracy: 0.4634\n",
      "Epoch 17/30\n",
      "316/316 [==============================] - 0s 1ms/step - loss: 1.0771 - accuracy: 0.4634\n",
      "Epoch 18/30\n",
      "316/316 [==============================] - 0s 1ms/step - loss: 1.0784 - accuracy: 0.4666\n",
      "Epoch 19/30\n",
      "316/316 [==============================] - 0s 1ms/step - loss: 1.0779 - accuracy: 0.4634\n",
      "Epoch 20/30\n",
      "316/316 [==============================] - 0s 1ms/step - loss: 1.0815 - accuracy: 0.4637\n",
      "Epoch 21/30\n",
      "316/316 [==============================] - 0s 1ms/step - loss: 1.0801 - accuracy: 0.4634\n",
      "Epoch 22/30\n",
      "316/316 [==============================] - 0s 1ms/step - loss: 1.0835 - accuracy: 0.4634\n",
      "Epoch 23/30\n",
      "316/316 [==============================] - 0s 1ms/step - loss: 1.0845 - accuracy: 0.4647\n",
      "Epoch 24/30\n",
      "316/316 [==============================] - 0s 1ms/step - loss: 1.0875 - accuracy: 0.4647\n",
      "Epoch 25/30\n",
      "316/316 [==============================] - 0s 1ms/step - loss: 1.0894 - accuracy: 0.4679\n",
      "Epoch 26/30\n",
      "316/316 [==============================] - 0s 1ms/step - loss: 1.0932 - accuracy: 0.4742\n",
      "Epoch 27/30\n",
      "316/316 [==============================] - 0s 1ms/step - loss: 1.0946 - accuracy: 0.4742\n",
      "Epoch 28/30\n",
      "316/316 [==============================] - 0s 1ms/step - loss: 1.0960 - accuracy: 0.4805\n",
      "Epoch 29/30\n",
      "316/316 [==============================] - 0s 1ms/step - loss: 1.0977 - accuracy: 0.4805\n",
      "Epoch 30/30\n",
      "316/316 [==============================] - 0s 1ms/step - loss: 1.0989 - accuracy: 0.4869\n"
     ]
    },
    {
     "data": {
      "text/plain": [
       "<tensorflow.python.keras.callbacks.History at 0x7fe8dc1542e8>"
      ]
     },
     "execution_count": 62,
     "metadata": {},
     "output_type": "execute_result"
    }
   ],
   "source": [
    "model.fit(train_data.batch(50), epochs=30)\n",
    "# val_loss, val_accuracy = model.evaluate(valid_data.batch(X_valid.shape[0]))\n",
    "# print(\"Validation accuracy for classifcation model: {}\".format(val_accuracy))\n"
   ]
  },
  {
   "cell_type": "code",
   "execution_count": 63,
   "metadata": {},
   "outputs": [],
   "source": [
    "preds = model.predict(x={\"gestation_weeks\": tf.convert_to_tensor([38]),\n",
    "                         \"is_male\": tf.convert_to_tensor([\"True\"]),\n",
    "                         \"mother_age\": tf.convert_to_tensor([28]),\n",
    "                         \"mother_race\": tf.convert_to_tensor([\"1.0\"]),\n",
    "                         \"plurality\": tf.convert_to_tensor([\"Single(1)\"])},\n",
    "                      steps=1).squeeze()"
   ]
  },
  {
   "cell_type": "code",
   "execution_count": 64,
   "metadata": {},
   "outputs": [
    {
     "data": {
      "text/plain": [
       "array([4.6209158e-07, 1.4254154e-04, 2.0271992e-02, 5.7242584e-01,\n",
       "       3.9957047e-01, 7.5189867e-03, 6.9629772e-05, 1.5570089e-08],\n",
       "      dtype=float32)"
      ]
     },
     "execution_count": 64,
     "metadata": {},
     "output_type": "execute_result"
    }
   ],
   "source": [
    "preds"
   ]
  },
  {
   "cell_type": "code",
   "execution_count": 65,
   "metadata": {},
   "outputs": [
    {
     "data": {
      "image/png": "[encoded data removed]",
      "text/plain": [
       "<Figure size 432x288 with 1 Axes>"
      ]
     },
     "metadata": {
      "needs_background": "light"
     },
     "output_type": "display_data"
    }
   ],
   "source": [
    "objects = [str(_) for _ in range(NBUCKETS)]\n",
    "y_pos = np.arange(len(objects))\n",
    "predictions = list(preds)\n",
    "\n",
    "plt.bar(y_pos, predictions, align='center', alpha=0.5)\n",
    "plt.xticks(y_pos, objects)\n",
    "plt.title('Baby weight prediction')\n",
    "\n",
    "plt.show()"
   ]
  },
  {
   "cell_type": "markdown",
   "metadata": {},
   "source": [
    "## 分類數量、清晰度和變異數\n",
    "\n",
    "* 輸出PDF的精細度意味著回歸任務的精確度\n",
    "    * 較清晰表示輸出分佈的帶寬較小\n",
    "    * 反之則是輸出分佈的帶寬較大\n",
    "    * 如果希望很清晰，那麼還是選用回歸模型"
   ]
  },
  {
   "cell_type": "markdown",
   "metadata": {},
   "source": [
    "## 限制輸出範圍\n",
    "\n",
    "* 重新定義問題的其中一個理由是必須限制輸出值的範圍，例如某個回歸問題限定輸出直在[3, 20]之間\n",
    "    * 什麼都不做的話基本上就是會跑出[3, 20]的界線\n",
    "    * sigmoid function 可以幫助我們做到這件事情"
   ]
  },
  {
   "cell_type": "code",
   "execution_count": 66,
   "metadata": {},
   "outputs": [
    {
     "name": "stdout",
     "output_type": "stream",
     "text": [
      "Train on 2048 samples\n",
      "2048/2048 [==============================] - 0s 122us/sample - loss: 11.2867\n",
      "Train on 2048 samples\n",
      "2048/2048 [==============================] - 0s 28us/sample - loss: 8.5973\n",
      "Train on 2048 samples\n",
      "2048/2048 [==============================] - 0s 28us/sample - loss: 5.9522\n",
      "Train on 2048 samples\n",
      "2048/2048 [==============================] - 0s 29us/sample - loss: 4.2072\n",
      "Train on 2048 samples\n",
      "2048/2048 [==============================] - 0s 29us/sample - loss: 2.7970\n",
      "Train on 2048 samples\n",
      "2048/2048 [==============================] - 0s 29us/sample - loss: 1.6922\n",
      "Train on 2048 samples\n",
      "2048/2048 [==============================] - 0s 31us/sample - loss: 1.2419\n",
      "Train on 2048 samples\n",
      "2048/2048 [==============================] - 0s 32us/sample - loss: 0.8735\n",
      "Train on 2048 samples\n",
      "2048/2048 [==============================] - 0s 32us/sample - loss: 0.6660\n",
      "Train on 2048 samples\n",
      "2048/2048 [==============================] - 0s 28us/sample - loss: 0.4761\n",
      "min=3.0013558864593506 max=19.80112648010254\n"
     ]
    }
   ],
   "source": [
    "MIN_Y =  3\n",
    "MAX_Y = 20\n",
    "input_size = 10\n",
    "inputs = keras.layers.Input(shape=(input_size,))\n",
    "h1 = keras.layers.Dense(20, 'relu')(inputs)\n",
    "h2 = keras.layers.Dense(1, 'sigmoid')(h1)  # 0-1 range\n",
    "output = keras.layers.Lambda(lambda y : (y*(MAX_Y-MIN_Y) + MIN_Y))(h2) # scaled\n",
    "model = keras.Model(inputs, output)\n",
    "\n",
    "# fit the model\n",
    "model.compile(optimizer='adam', loss='mse')\n",
    "batch_size = 2048\n",
    "for i in range(0, 10):\n",
    "    x = np.random.rand(batch_size, input_size)\n",
    "    y = 0.5*(x[:,0] + x[:,1]) * (MAX_Y-MIN_Y) + MIN_Y\n",
    "    model.fit(x, y)\n",
    "\n",
    "# verify\n",
    "min_y = np.finfo(np.float64).max\n",
    "max_y = np.finfo(np.float64).min\n",
    "for i in range(0, 10):\n",
    "    x = np.random.randn(batch_size, input_size)\n",
    "    y = model.predict(x)\n",
    "    min_y = min(y.min(), min_y)\n",
    "    max_y = max(y.max(), max_y)\n",
    "print('min={} max={}'.format(min_y, max_y))"
   ]
  },
  {
   "cell_type": "markdown",
   "metadata": {},
   "source": [
    "## 代價\n",
    "\n",
    "* 犧牲精確度\n",
    "    * 當你變成分類問題，雖然你可以得到一個機率分佈，但你會失去精確值，這一點需要多考量你的任務，是否需要非常精確的數值，還是粗略的數值就可以了\n",
    "\n",
    "\n",
    "\n",
    "* 標籤偏誤\n",
    "    標籤可能在資料集中存在某種性質，必須小心地考慮他們，比如以**是否點擊**，作為y的推薦系統，裡面可能藏有使用者誤點，又馬上跳出的行為，這使得你的資料集中有一些 positive label 是不可信的，若無法預估這一點，可能就可以考慮\n",
    "    * 使用者點擊該素材之後的互動時間\n",
    "    * 使用者至少觀看該素材一半時間的可能性\n"
   ]
  },
  {
   "cell_type": "markdown",
   "metadata": {},
   "source": [
    "## 其他解決方案\n",
    "\n",
    "* 分位數回歸 - 這是線性回歸的延伸，使得模型不只預測平均值\n",
    "* 統計建模 - 相似地，透過資料探勘來了解 $y$ 符合什麼分佈，用參數解 + maximum likelihood 來解這個問題(tensorflow_probability)\n",
    "* 多任務學習 - 特別是基於神經網路的模型，你可以接兩個輸出同時來優化你的模型(持保留意見)"
   ]
  },
  {
   "cell_type": "code",
   "execution_count": null,
   "metadata": {},
   "outputs": [],
   "source": []
  }
 ],
 "metadata": {
  "kernelspec": {
   "display_name": "Python 3",
   "language": "python",
   "name": "python3"
  },
  "language_info": {
   "codemirror_mode": {
    "name": "ipython",
    "version": 3
   },
   "file_extension": ".py",
   "mimetype": "text/x-python",
   "name": "python",
   "nbconvert_exporter": "python",
   "pygments_lexer": "ipython3",
   "version": "3.6.9"
  },
  "toc": {
   "base_numbering": 1,
   "nav_menu": {},
   "number_sections": true,
   "sideBar": true,
   "skip_h1_title": false,
   "title_cell": "Table of Contents",
   "title_sidebar": "Contents",
   "toc_cell": true,
   "toc_position": {},
   "toc_section_display": true,
   "toc_window_display": false
  }
 },
 "nbformat": 4,
 "nbformat_minor": 5
}
